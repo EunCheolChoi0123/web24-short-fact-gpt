{
 "cells": [
  {
   "cell_type": "markdown",
   "id": "fJ4JAfmuPJC7",
   "metadata": {
    "id": "fJ4JAfmuPJC7"
   },
   "source": [
    "# Initializing the setup"
   ]
  },
  {
   "cell_type": "code",
   "execution_count": null,
   "id": "82528ac9-5f34-4b07-bf0c-fe20202618a9",
   "metadata": {
    "id": "82528ac9-5f34-4b07-bf0c-fe20202618a9"
   },
   "outputs": [],
   "source": [
    "import pandas as pd\n",
    "import openai"
   ]
  },
  {
   "cell_type": "code",
   "execution_count": null,
   "id": "b8jWzpVRL2jI",
   "metadata": {
    "id": "b8jWzpVRL2jI"
   },
   "outputs": [],
   "source": [
    "from IPython.display import clear_output\n",
    "import time\n",
    "\n",
    "from sklearn.model_selection import train_test_split\n",
    "from sklearn.utils import resample\n",
    "import json\n",
    "\n",
    "import os"
   ]
  },
  {
   "cell_type": "code",
   "execution_count": null,
   "id": "67f69062-8bbb-4fe6-8e59-1e8e29a5601a",
   "metadata": {
    "id": "67f69062-8bbb-4fe6-8e59-1e8e29a5601a"
   },
   "outputs": [],
   "source": [
    "with open(\"OPENAI_API_KEY.txt\", \"r\") as file:\n",
    "    openai.api_key = file.read()"
   ]
  },
  {
   "cell_type": "markdown",
   "id": "0a4_RO3GBPG7",
   "metadata": {
    "id": "0a4_RO3GBPG7"
   },
   "source": [
    "# Open dataframe"
   ]
  },
  {
   "cell_type": "code",
   "execution_count": null,
   "id": "c0r1ioxLBk18",
   "metadata": {
    "id": "c0r1ioxLBk18"
   },
   "outputs": [],
   "source": [
    "original_df = pd.read_csv('FACT-GPT dataset.csv', index_col=[0])"
   ]
  },
  {
   "cell_type": "code",
   "execution_count": null,
   "id": "JOpggYq3NAgB",
   "metadata": {
    "id": "JOpggYq3NAgB"
   },
   "outputs": [],
   "source": [
    "def get_train_and_validation_sets(original_df, model_name):\n",
    "\n",
    "    training_list = []\n",
    "    for index, row in original_df.iterrows():\n",
    "        entailment = {'old_index': index,\n",
    "                      'claim_number': row['claim_number'],\n",
    "                      'claim': row['claim'],\n",
    "                      'generated_tweet': row[f'generated_entail_tweet_{model_name}'],\n",
    "                      'ground_truth': 'ENTAILMENT'}\n",
    "        neutral = {'old_index': index,\n",
    "                   'claim_number': row['claim_number'],\n",
    "                   'claim': row['claim'],\n",
    "                   'generated_tweet': row[f'generated_neutral_tweet_{model_name}'],\n",
    "                   'ground_truth': 'NEUTRAL'}\n",
    "        contradiction = {'old_index': index,\n",
    "                         'claim_number': row['claim_number'],\n",
    "                         'claim': row['claim'],\n",
    "                         'generated_tweet': row[f'generated_contradict_tweet_{model_name}'],\n",
    "                         'ground_truth': 'CONTRADICTION'}\n",
    "\n",
    "        training_list.extend([contradiction, entailment, neutral])\n",
    "\n",
    "    df = pd.DataFrame(training_list)\n",
    "\n",
    "    # Shuffle the DataFrame\n",
    "    df = df.sample(frac=1, random_state=42).reset_index(drop=True)\n",
    "\n",
    "    # Split the data into training and validation sets (80:20)\n",
    "    train_df, val_df = train_test_split(df, test_size=0.2, random_state=42)\n",
    "\n",
    "    return train_df, val_df\n",
    "\n",
    "train_df, val_df = get_train_and_validation_sets(original_df, 'gpt-4')"
   ]
  },
  {
   "cell_type": "code",
   "execution_count": null,
   "id": "0R0ohmeENxlh",
   "metadata": {
    "id": "0R0ohmeENxlh"
   },
   "outputs": [],
   "source": [
    "# Function to create dataset from DataFrame\n",
    "def create_dataset(df):\n",
    "    dataset = []\n",
    "    for i, row in df.iterrows():\n",
    "        tweet = row['generated_tweet']\n",
    "        claim = row['claim']\n",
    "        ground_truth = row['ground_truth']\n",
    "        datum = {\n",
    "            \"messages\": [\n",
    "                {\"role\": \"system\", \"content\": f\"\"\"Which of the following best describes the relationship between TWEET and CLAIM?\n",
    "\n",
    "If TWEET is true:\n",
    "(ENTAILMENT) then CLAIM is also true.\n",
    "(NEUTRAL) CLAIM cannot be said to be true or false.\n",
    "(CONTRADICTION) then CLAIM is false.\"\"\"},\n",
    "                {\"role\": \"user\", \"content\": f\"TWEET: {tweet}\\nCLAIM: {claim}\\nANSWER:\"},\n",
    "                {\"role\": \"assistant\", \"content\": f\"{ground_truth}\"}\n",
    "            ]\n",
    "        }\n",
    "        dataset.append(datum)\n",
    "\n",
    "    return dataset\n",
    "\n",
    "# Create train and validation datasets\n",
    "train_dataset = create_dataset(train_df)\n",
    "val_dataset = create_dataset(val_df)\n",
    "\n",
    "# Save the datasets as JSON files\n",
    "with open(f'train_gpt-4.jsonl', 'w') as f:\n",
    "\n",
    "    for d in train_dataset:\n",
    "        # Convert dictionary to JSON-formatted string\n",
    "        json_str = json.dumps(d)\n",
    "\n",
    "        # Write to file\n",
    "        f.write(json_str + \"\\n\")\n",
    "\n",
    "with open(f'val_gpt-4.jsonl', 'w') as f:\n",
    "\n",
    "    for d in val_dataset:\n",
    "        # Convert dictionary to JSON-formatted string\n",
    "        json_str = json.dumps(d)\n",
    "\n",
    "        # Write to file\n",
    "        f.write(json_str + \"\\n\")"
   ]
  },
  {
   "cell_type": "markdown",
   "id": "_oA4aCYJL8Yq",
   "metadata": {
    "id": "_oA4aCYJL8Yq"
   },
   "source": [
    "# Make and upload json"
   ]
  },
  {
   "cell_type": "code",
   "execution_count": null,
   "id": "D8OZvkZ5L-e7",
   "metadata": {
    "id": "D8OZvkZ5L-e7"
   },
   "outputs": [],
   "source": [
    "openai.File.create(\n",
    "  file=open('train_gpt-4.jsonl', \"rb\"),\n",
    "  purpose='fine-tune'\n",
    ")"
   ]
  },
  {
   "cell_type": "code",
   "execution_count": null,
   "id": "eabf491e",
   "metadata": {},
   "outputs": [],
   "source": [
    "openai.File.create(\n",
    "  file=open('val_gpt-4.jsonl', \"rb\"),\n",
    "  purpose='fine-tune'\n",
    ")"
   ]
  },
  {
   "cell_type": "code",
   "execution_count": null,
   "id": "W_mJOIOomXhV",
   "metadata": {
    "id": "W_mJOIOomXhV"
   },
   "outputs": [],
   "source": [
    "openai_file_dict = {\n",
    " 'train_gpt-4.jsonl': ### file \"id\" ###,\n",
    " 'val_gpt-4.jsonl': ### file \"id\" ###,\n",
    "}"
   ]
  },
  {
   "cell_type": "markdown",
   "id": "a3r7_tN9Sigv",
   "metadata": {
    "id": "a3r7_tN9Sigv"
   },
   "source": [
    "# fine tuning (gpt-3.5-turbo)"
   ]
  },
  {
   "cell_type": "code",
   "execution_count": null,
   "id": "8z7nqmgRLL09",
   "metadata": {
    "id": "8z7nqmgRLL09"
   },
   "outputs": [],
   "source": [
    "import time\n",
    "while True:\n",
    "    try:\n",
    "        openai.FineTuningJob.create(training_file= openai_file_dict['train_gpt-4.jsonl'],\n",
    "                                    validation_file= openai_file_dict['val_gpt-4.jsonl'],\n",
    "                                    model=\"gpt-3.5-turbo\",\n",
    "                                    hyperparameters={\"n_epochs\":3})\n",
    "        break\n",
    "    except Exception as e:\n",
    "        print(e)\n",
    "        time.sleep(300)"
   ]
  },
  {
   "cell_type": "code",
   "execution_count": null,
   "id": "78u4neGWNF9c",
   "metadata": {
    "id": "78u4neGWNF9c"
   },
   "outputs": [],
   "source": [
    "openai.FineTuningJob.list()['data']"
   ]
  },
  {
   "cell_type": "code",
   "execution_count": null,
   "id": "FUmcmp2wI4Ok",
   "metadata": {
    "id": "FUmcmp2wI4Ok"
   },
   "outputs": [],
   "source": [
    "model_name = ### model \"id\" ###"
   ]
  },
  {
   "cell_type": "markdown",
   "id": "32QQ3Z4yoWFj",
   "metadata": {
    "id": "32QQ3Z4yoWFj"
   },
   "source": [
    "# Annotation loop"
   ]
  },
  {
   "cell_type": "code",
   "execution_count": null,
   "id": "ZqtA9qHROpoy",
   "metadata": {
    "id": "ZqtA9qHROpoy"
   },
   "outputs": [],
   "source": [
    "test_df = original_df\n",
    "test_df['gpt-3_5_finetuned_on_gpt_4'] = None"
   ]
  },
  {
   "cell_type": "code",
   "execution_count": null,
   "id": "A_4SMNlfBVae",
   "metadata": {
    "id": "A_4SMNlfBVae"
   },
   "outputs": [],
   "source": [
    "start_time = time.time()\n",
    "\n",
    "# Iterate through the DataFrame\n",
    "for i, row in test_df.iterrows():\n",
    "    tweet = row['tweet']\n",
    "    claim = row['claim']\n",
    "\n",
    "    try:\n",
    "        retries = 3\n",
    "        while retries > 0:\n",
    "            try:\n",
    "\n",
    "                if pd.isnull(row['gpt-3_5_finetuned_on_gpt_4']):\n",
    "                    completion = openai.ChatCompletion.create(\n",
    "                          model=model_name,\n",
    "                          messages=[{'role': 'system', 'content': f\"\"\"Which of the following best describes the relationship between TWEET and CLAIM?\n",
    "\n",
    "If TWEET is true:\n",
    "(ENTAILMENT) then CLAIM is also true.\n",
    "(NEUTRAL) CLAIM cannot be said to be true or false.\n",
    "(CONTRADICTION) then CLAIM is false.\"\"\"},\n",
    "\n",
    "                        {\"role\": \"user\", \"content\": f\"\"\"TWEET: {tweet}\n",
    "CLAIM: {claim}\n",
    "ANSWER:\"\"\"}\n",
    "                          ],\n",
    "                          temperature=0\n",
    "                        )\n",
    "                    test_df.at[i, 'gpt-3_5_finetuned_on_gpt_4'] = completion.choices[0].message['content']\n",
    "\n",
    "                break\n",
    "\n",
    "\n",
    "            except openai.error.OpenAIError as e:\n",
    "                print(f\"Error: {e}\")\n",
    "                retries -= 1\n",
    "                time.sleep(5)  # Wait for 5 seconds before\n",
    "\n",
    "    except Exception as e:\n",
    "        print(e)\n",
    "\n",
    "    test_df.to_csv('FACT-GPT dataset.csv')\n",
    "\n",
    "    end_time = time.time()\n",
    "    runtime = end_time - start_time\n",
    "\n",
    "    clear_output(wait=True)\n",
    "\n",
    "    print(f\"Iteration: {i+1}, Runtime: {runtime} seconds\")"
   ]
  }
 ],
 "metadata": {
  "colab": {
   "provenance": []
  },
  "kernelspec": {
   "display_name": "Python 3 (ipykernel)",
   "language": "python",
   "name": "python3"
  },
  "language_info": {
   "codemirror_mode": {
    "name": "ipython",
    "version": 3
   },
   "file_extension": ".py",
   "mimetype": "text/x-python",
   "name": "python",
   "nbconvert_exporter": "python",
   "pygments_lexer": "ipython3",
   "version": "3.9.12"
  }
 },
 "nbformat": 4,
 "nbformat_minor": 5
}
