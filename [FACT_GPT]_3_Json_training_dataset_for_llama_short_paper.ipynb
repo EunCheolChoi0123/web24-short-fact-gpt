{
 "cells": [
  {
   "cell_type": "code",
   "execution_count": null,
   "metadata": {
    "id": "Z5LG-pqBFSpl"
   },
   "outputs": [],
   "source": [
    "import pandas as pd\n",
    "import numpy as np\n",
    "\n",
    "from sklearn.utils import resample\n",
    "import json"
   ]
  },
  {
   "cell_type": "code",
   "execution_count": null,
   "metadata": {},
   "outputs": [],
   "source": [
    "!git clone -b v0.1.8 https://github.com/hiyouga/LLaMA-Factory.git"
   ]
  },
  {
   "cell_type": "code",
   "execution_count": null,
   "metadata": {
    "id": "igVNpufMbUK2"
   },
   "outputs": [],
   "source": [
    "original_df = pd.read_csv('FACT-GPT dataset.csv')"
   ]
  },
  {
   "cell_type": "code",
   "execution_count": null,
   "metadata": {
    "id": "Qgnx79wc_IUi"
   },
   "outputs": [],
   "source": [
    "def generate_entailment_prompt(tweet, claim):\n",
    "\n",
    "    prompt = f\"\"\"<s>[INST] <<SYS>> Which of the following best describes the relationship between TWEET and CLAIM? Your answer should only be either ENTAILMENT, NEUTRAL, or CONTRADICTION.\n",
    "\n",
    "If TWEET is true:\n",
    "(ENTAILMENT) then CLAIM is also true.\n",
    "(NEUTRAL) CLAIM cannot be said to be true or false.\n",
    "(CONTRADICTION) then CLAIM is false. <</SYS>>\n",
    "\n",
    "TWEET: {tweet}\n",
    "CLAIM: {claim}\n",
    "ANSWER: [/INST]\"\"\"\n",
    "\n",
    "    return prompt"
   ]
  },
  {
   "cell_type": "markdown",
   "metadata": {
    "id": "SuimG4Ff5Rtv"
   },
   "source": [
    "# Create Train Dataset"
   ]
  },
  {
   "cell_type": "code",
   "execution_count": null,
   "metadata": {
    "id": "u6GNd89i5YcD"
   },
   "outputs": [],
   "source": [
    "def get_train_set(original_df, model_name):\n",
    "\n",
    "    training_list = []\n",
    "\n",
    "    for index, row in original_df.iterrows():\n",
    "\n",
    "        entailment = {'old_index': index,\n",
    "                      'claim_number': row['claim_number'],\n",
    "                      'claim': row['claim'],\n",
    "                      'generated_tweet': row[f'generated_entail_tweet_{model_name}'],\n",
    "                      'ground_truth': 'ENTAILMENT'}\n",
    "\n",
    "        neutral = {'old_index': index,\n",
    "                    'claim_number': row['claim_number'],\n",
    "                    'claim': row['claim'],\n",
    "                    'generated_tweet': row[f'generated_neutral_tweet_{model_name}'],\n",
    "                    'ground_truth': 'NEUTRAL'}\n",
    "\n",
    "        contradiction = {'old_index': index,\n",
    "            'claim_number': row['claim_number'],\n",
    "            'claim': row['claim'],\n",
    "            'generated_tweet': row[f'generated_contradict_tweet_{model_name}'],\n",
    "            'ground_truth': 'CONTRADICTION'}\n",
    "\n",
    "        training_list.append(contradiction)\n",
    "        training_list.append(entailment)\n",
    "        training_list.append(neutral)\n",
    "\n",
    "\n",
    "    df = pd.DataFrame(training_list)\n",
    "\n",
    "    df = df.sample(frac=1, random_state=42).reset_index(drop=True)\n",
    "\n",
    "    train_dataset = []\n",
    "    for i, row in df.iterrows():\n",
    "        tweet = row['generated_tweet']\n",
    "        claim = row['claim']\n",
    "        ground_truth = row['ground_truth']\n",
    "\n",
    "        datum = {\n",
    "\"instruction\": f\"\"\"<<SYS>> Which of the following best describes the relationship between TWEET and CLAIM?\n",
    "\n",
    "If TWEET is true:\n",
    "(ENTAILMENT) then CLAIM is also true.\n",
    "(NEUTRAL) CLAIM cannot be said to be true or false.\n",
    "(CONTRADICTION) then CLAIM is false. <</SYS>>\"\"\",\n",
    "\n",
    "\"input\": f\"\"\"TWEET: {tweet}\n",
    "CLAIM: {claim}\n",
    "ANSWER:\"\"\",\n",
    "\n",
    "\"output\": f\"{ground_truth}\"\n",
    "        }\n",
    "        train_dataset.append(datum)\n",
    "\n",
    "    with open(f'LLaMA-Factory/data/train_{model_name}.json', 'w') as f:\n",
    "        json.dump(train_dataset, f, indent=4)\n",
    "\n",
    "    return df, train_dataset"
   ]
  },
  {
   "cell_type": "code",
   "execution_count": null,
   "metadata": {
    "id": "XGN3xV0_D5cn"
   },
   "outputs": [],
   "source": [
    "df, train_dataset = get_train_set(original_df, 'gpt-4')\n",
    "print(train_dataset[0]['instruction'])\n",
    "print(train_dataset[0]['input'])\n",
    "print(train_dataset[0]['output'])\n",
    "len(train_dataset), df['ground_truth'].value_counts()"
   ]
  },
  {
   "cell_type": "markdown",
   "metadata": {
    "id": "Y__ke_uC52ZX"
   },
   "source": [
    "# Make test set json (for placeholder)"
   ]
  },
  {
   "cell_type": "code",
   "execution_count": null,
   "metadata": {
    "id": "aCslQ1kydAFe"
   },
   "outputs": [],
   "source": [
    "# test (original order)\n",
    "test_dataset = []\n",
    "for i, row in original_df.iterrows():\n",
    "    tweet = row['tweet']\n",
    "    claim = row['claim']\n",
    "    ground_truth = row['Mturk_1']\n",
    "\n",
    "    datum = {\n",
    "\n",
    "\"instruction\": f\"\"\"<<SYS>> Which of the following best describes the relationship between TWEET and CLAIM?\n",
    "\n",
    "If TWEET is true:\n",
    "(ENTAILMENT) then CLAIM is also true.\n",
    "(NEUTRAL) CLAIM cannot be said to be true or false.\n",
    "(CONTRADICTION) then CLAIM is false. <</SYS>>\"\"\",\n",
    "\n",
    "\"input\": f\"\"\"TWEET: {tweet}\n",
    "Claim: {claim}\n",
    "Answer:\"\"\",\n",
    "\n",
    "\"output\": f\"{ground_truth}\"\n",
    "    }\n",
    "\n",
    "    test_dataset.append(datum)"
   ]
  },
  {
   "cell_type": "code",
   "execution_count": null,
   "metadata": {
    "id": "Hi9eGdxcdM1I"
   },
   "outputs": [],
   "source": [
    "with open('LLaMA-Factory/data/test.json', 'w') as f:\n",
    "    json.dump(test_dataset, f, indent=4)"
   ]
  }
 ],
 "metadata": {
  "colab": {
   "provenance": []
  },
  "kernelspec": {
   "display_name": "Python 3 (ipykernel)",
   "language": "python",
   "name": "python3"
  },
  "language_info": {
   "codemirror_mode": {
    "name": "ipython",
    "version": 3
   },
   "file_extension": ".py",
   "mimetype": "text/x-python",
   "name": "python",
   "nbconvert_exporter": "python",
   "pygments_lexer": "ipython3",
   "version": "3.9.12"
  }
 },
 "nbformat": 4,
 "nbformat_minor": 1
}
