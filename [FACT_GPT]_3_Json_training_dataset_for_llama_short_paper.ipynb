{
  "nbformat": 4,
  "nbformat_minor": 0,
  "metadata": {
    "colab": {
      "provenance": []
    },
    "kernelspec": {
      "name": "python3",
      "display_name": "Python 3"
    },
    "language_info": {
      "name": "python"
    }
  },
  "cells": [
    {
      "cell_type": "code",
      "execution_count": 20,
      "metadata": {
        "id": "HeU2_7mVE3QK"
      },
      "outputs": [],
      "source": [
        "from google.colab import drive\n",
        "drive.mount('/content/drive')"
      ]
    },
    {
      "cell_type": "code",
      "source": [
        "import pandas as pd\n",
        "import numpy as np\n",
        "\n",
        "from sklearn.utils import resample\n",
        "import json"
      ],
      "metadata": {
        "id": "Z5LG-pqBFSpl"
      },
      "execution_count": 21,
      "outputs": []
    },
    {
      "cell_type": "code",
      "source": [
        "original_df = pd.read_csv('/content/drive/MyDrive/FACT-GPT dataset.csv')"
      ],
      "metadata": {
        "id": "igVNpufMbUK2"
      },
      "execution_count": 13,
      "outputs": []
    },
    {
      "cell_type": "code",
      "source": [
        "def generate_entailment_prompt(tweet, claim):\n",
        "\n",
        "    prompt = f\"\"\"<s>[INST] <<SYS>> Which of the following best describes the relationship between TWEET and CLAIM? Your answer should only be either ENTAILMENT, NEUTRAL, or CONTRADICTION.\n",
        "\n",
        "If TWEET is true:\n",
        "(ENTAILMENT) then CLAIM is also true.\n",
        "(NEUTRAL) CLAIM cannot be said to be true or false.\n",
        "(CONTRADICTION) then CLAIM is false. <</SYS>>\n",
        "\n",
        "TWEET: {tweet}\n",
        "CLAIM: {claim}\n",
        "ANSWER: [/INST]\"\"\"\n",
        "\n",
        "    return prompt"
      ],
      "metadata": {
        "id": "Qgnx79wc_IUi"
      },
      "execution_count": 14,
      "outputs": []
    },
    {
      "cell_type": "markdown",
      "source": [
        "# Create Train Dataset"
      ],
      "metadata": {
        "id": "SuimG4Ff5Rtv"
      }
    },
    {
      "cell_type": "code",
      "source": [
        "def get_train_set(original_df, model_name):\n",
        "\n",
        "    training_list = []\n",
        "\n",
        "    for index, row in original_df.iterrows():\n",
        "\n",
        "        entailment = {'old_index': index,\n",
        "                      'claim_number': row['claim_number'],\n",
        "                      'claim': row['claim'],\n",
        "                      'generated_tweet': row[f'generated_entail_tweet_{model_name}'],\n",
        "                      'ground_truth': 'ENTAILMENT'}\n",
        "\n",
        "        neutral = {'old_index': index,\n",
        "                    'claim_number': row['claim_number'],\n",
        "                    'claim': row['claim'],\n",
        "                    'generated_tweet': row[f'generated_neutral_tweet_{model_name}'],\n",
        "                    'ground_truth': 'NEUTRAL'}\n",
        "\n",
        "        contradiction = {'old_index': index,\n",
        "            'claim_number': row['claim_number'],\n",
        "            'claim': row['claim'],\n",
        "            'generated_tweet': row[f'generated_contradict_tweet_{model_name}'],\n",
        "            'ground_truth': 'CONTRADICTION'}\n",
        "\n",
        "        training_list.append(contradiction)\n",
        "        training_list.append(entailment)\n",
        "        training_list.append(neutral)\n",
        "\n",
        "\n",
        "    df = pd.DataFrame(training_list)\n",
        "\n",
        "    df = df.sample(frac=1, random_state=42).reset_index(drop=True)\n",
        "\n",
        "    train_dataset = []\n",
        "    for i, row in df.iterrows():\n",
        "        tweet = row['generated_tweet']\n",
        "        claim = row['claim']\n",
        "        ground_truth = row['ground_truth']\n",
        "\n",
        "        datum = {\n",
        "\"instruction\": f\"\"\"<<SYS>> Which of the following best describes the relationship between TWEET and CLAIM?\n",
        "\n",
        "If TWEET is true:\n",
        "(ENTAILMENT) then CLAIM is also true.\n",
        "(NEUTRAL) CLAIM cannot be said to be true or false.\n",
        "(CONTRADICTION) then CLAIM is false. <</SYS>>\"\"\",\n",
        "\n",
        "\"input\": f\"\"\"TWEET: {tweet}\n",
        "CLAIM: {claim}\n",
        "ANSWER:\"\"\",\n",
        "\n",
        "\"output\": f\"{ground_truth}\"\n",
        "        }\n",
        "        train_dataset.append(datum)\n",
        "\n",
        "    with open(f'/content/drive/MyDrive/Finetuning/LLaMA-Efficient-Tuning/data/train_{model_name}.json', 'w') as f:\n",
        "        json.dump(train_dataset, f, indent=4)\n",
        "\n",
        "    return df, train_dataset"
      ],
      "metadata": {
        "id": "u6GNd89i5YcD"
      },
      "execution_count": 15,
      "outputs": []
    },
    {
      "cell_type": "code",
      "source": [
        "df, train_dataset = get_train_set(original_df, 'gpt-4')\n",
        "print(train_dataset[0]['instruction'])\n",
        "print(train_dataset[0]['input'])\n",
        "print(train_dataset[0]['output'])\n",
        "len(train_dataset), df['ground_truth'].value_counts()"
      ],
      "metadata": {
        "id": "XGN3xV0_D5cn"
      },
      "execution_count": 22,
      "outputs": []
    },
    {
      "cell_type": "markdown",
      "source": [
        "# Make test set json (for placeholder)"
      ],
      "metadata": {
        "id": "Y__ke_uC52ZX"
      }
    },
    {
      "cell_type": "code",
      "source": [
        "# test (original order)\n",
        "test_dataset = []\n",
        "for i, row in original_df.iterrows():\n",
        "    tweet = row['tweet']\n",
        "    claim = row['claim']\n",
        "    ground_truth = row['Mturk_1']\n",
        "\n",
        "    datum = {\n",
        "\n",
        "\"instruction\": f\"\"\"<<SYS>> Which of the following best describes the relationship between TWEET and CLAIM?\n",
        "\n",
        "If TWEET is true:\n",
        "(ENTAILMENT) then CLAIM is also true.\n",
        "(NEUTRAL) CLAIM cannot be said to be true or false.\n",
        "(CONTRADICTION) then CLAIM is false. <</SYS>>\"\"\",\n",
        "\n",
        "\"input\": f\"\"\"TWEET: {tweet}\n",
        "Claim: {claim}\n",
        "Answer:\"\"\",\n",
        "\n",
        "\"output\": f\"{ground_truth}\"\n",
        "    }\n",
        "\n",
        "    test_dataset.append(datum)"
      ],
      "metadata": {
        "id": "aCslQ1kydAFe"
      },
      "execution_count": 23,
      "outputs": []
    },
    {
      "cell_type": "code",
      "source": [
        "with open('/content/drive/MyDrive/Finetuning/LLaMA-Efficient-Tuning/data/test.json', 'w') as f:\n",
        "    json.dump(test_dataset, f, indent=4)"
      ],
      "metadata": {
        "id": "Hi9eGdxcdM1I"
      },
      "execution_count": 19,
      "outputs": []
    }
  ]
}